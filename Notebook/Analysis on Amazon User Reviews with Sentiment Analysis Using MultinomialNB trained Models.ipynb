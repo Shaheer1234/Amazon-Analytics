{
 "cells": [
  {
   "cell_type": "code",
   "execution_count": 146,
   "metadata": {
    "collapsed": true
   },
   "outputs": [],
   "source": [
    "from os import listdir\n",
    "from os.path import isfile, join\n",
    "from bs4 import BeautifulSoup\n",
    "import xml.etree.ElementTree as ET\n",
    "import codecs\n",
    "mypath =\"/Anaconda/blogs\"\n",
    "import re\n",
    "import numpy as np\n",
    "from sklearn.feature_extraction.text import TfidfVectorizer\n",
    "from sklearn.cross_validation import train_test_split\n",
    "from time import time\n",
    "import sys\n",
    "import scipy.sparse as sp\n",
    "import pylab as pl\n",
    "import cPickle\n",
    "import sqlite3\n",
    "%matplotlib inline"
   ]
  },
  {
   "cell_type": "code",
   "execution_count": 147,
   "metadata": {
    "collapsed": true
   },
   "outputs": [],
   "source": [
    "from sklearn.ensemble import RandomForestClassifier\n",
    "from sklearn.feature_extraction.text import TfidfVectorizer"
   ]
  },
  {
   "cell_type": "code",
   "execution_count": 148,
   "metadata": {
    "collapsed": true
   },
   "outputs": [],
   "source": [
    "with open('MultiNB.pkl', 'rb') as fid:\n",
    "    NB_loaded = cPickle.load(fid)"
   ]
  },
  {
   "cell_type": "code",
   "execution_count": 149,
   "metadata": {
    "collapsed": false
   },
   "outputs": [
    {
     "name": "stdout",
     "output_type": "stream",
     "text": [
      "MultinomialNB(alpha=0.01, class_prior=None, fit_prior=True)\n"
     ]
    }
   ],
   "source": [
    "print NB_loaded"
   ]
  },
  {
   "cell_type": "code",
   "execution_count": 150,
   "metadata": {
    "collapsed": false
   },
   "outputs": [
    {
     "name": "stdout",
     "output_type": "stream",
     "text": [
      "   id             rid              rname         pid  \\\n",
      "0   1  R3A9TW37U9J9C3    College Stealth  0385535597   \n",
      "1   2   REDTPL6B4HNHN      Connor Gibson  0385535597   \n",
      "2   3   RB04JM6NDDGFL            Panda31  0385535597   \n",
      "3   4  R37N2QMX2MYD5T  WhatIThinkAboutIt  006219867X   \n",
      "4   5  R16ENI6A3DH1DN                Dan  0385535597   \n",
      "\n",
      "                                              review  \n",
      "0  This book is a hard read; not because of Lexil...  \n",
      "1  This book is rapidly making waves, after the N...  \n",
      "2  An enthralling and comprehensive story of the ...  \n",
      "3  My 3-year-old loves Pete the Cat books and is ...  \n",
      "4  This is the most exhaustive, best researched, ...  \n"
     ]
    }
   ],
   "source": [
    "import pandas as pd\n",
    "import sqlite3\n",
    "\n",
    "# Read sqlite query results into a pandas DataFrame\n",
    "con = sqlite3.connect(\"Scrape-Amazon\\\\amazon\\\\Book.db\")\n",
    "df = pd.read_sql_query(\"SELECT * from Review\", con)\n",
    "\n",
    "# verify that result of SQL query is stored in the dataframe\n",
    "print(df.head())\n",
    "\n",
    "con.close()"
   ]
  },
  {
   "cell_type": "code",
   "execution_count": 151,
   "metadata": {
    "collapsed": false
   },
   "outputs": [
    {
     "data": {
      "text/html": [
       "<div>\n",
       "<table border=\"1\" class=\"dataframe\">\n",
       "  <thead>\n",
       "    <tr style=\"text-align: right;\">\n",
       "      <th></th>\n",
       "      <th>id</th>\n",
       "      <th>rid</th>\n",
       "      <th>rname</th>\n",
       "      <th>pid</th>\n",
       "      <th>review</th>\n",
       "    </tr>\n",
       "  </thead>\n",
       "  <tbody>\n",
       "    <tr>\n",
       "      <th>0</th>\n",
       "      <td>1</td>\n",
       "      <td>R3A9TW37U9J9C3</td>\n",
       "      <td>College Stealth</td>\n",
       "      <td>0385535597</td>\n",
       "      <td>This book is a hard read; not because of Lexil...</td>\n",
       "    </tr>\n",
       "    <tr>\n",
       "      <th>1</th>\n",
       "      <td>2</td>\n",
       "      <td>REDTPL6B4HNHN</td>\n",
       "      <td>Connor Gibson</td>\n",
       "      <td>0385535597</td>\n",
       "      <td>This book is rapidly making waves, after the N...</td>\n",
       "    </tr>\n",
       "    <tr>\n",
       "      <th>2</th>\n",
       "      <td>3</td>\n",
       "      <td>RB04JM6NDDGFL</td>\n",
       "      <td>Panda31</td>\n",
       "      <td>0385535597</td>\n",
       "      <td>An enthralling and comprehensive story of the ...</td>\n",
       "    </tr>\n",
       "    <tr>\n",
       "      <th>3</th>\n",
       "      <td>4</td>\n",
       "      <td>R37N2QMX2MYD5T</td>\n",
       "      <td>WhatIThinkAboutIt</td>\n",
       "      <td>006219867X</td>\n",
       "      <td>My 3-year-old loves Pete the Cat books and is ...</td>\n",
       "    </tr>\n",
       "    <tr>\n",
       "      <th>4</th>\n",
       "      <td>5</td>\n",
       "      <td>R16ENI6A3DH1DN</td>\n",
       "      <td>Dan</td>\n",
       "      <td>0385535597</td>\n",
       "      <td>This is the most exhaustive, best researched, ...</td>\n",
       "    </tr>\n",
       "  </tbody>\n",
       "</table>\n",
       "</div>"
      ],
      "text/plain": [
       "   id             rid              rname         pid  \\\n",
       "0   1  R3A9TW37U9J9C3    College Stealth  0385535597   \n",
       "1   2   REDTPL6B4HNHN      Connor Gibson  0385535597   \n",
       "2   3   RB04JM6NDDGFL            Panda31  0385535597   \n",
       "3   4  R37N2QMX2MYD5T  WhatIThinkAboutIt  006219867X   \n",
       "4   5  R16ENI6A3DH1DN                Dan  0385535597   \n",
       "\n",
       "                                              review  \n",
       "0  This book is a hard read; not because of Lexil...  \n",
       "1  This book is rapidly making waves, after the N...  \n",
       "2  An enthralling and comprehensive story of the ...  \n",
       "3  My 3-year-old loves Pete the Cat books and is ...  \n",
       "4  This is the most exhaustive, best researched, ...  "
      ]
     },
     "execution_count": 151,
     "metadata": {},
     "output_type": "execute_result"
    }
   ],
   "source": [
    "df.head()"
   ]
  },
  {
   "cell_type": "code",
   "execution_count": 152,
   "metadata": {
    "collapsed": true
   },
   "outputs": [],
   "source": [
    "reviews = df['review'].tolist()"
   ]
  },
  {
   "cell_type": "code",
   "execution_count": 153,
   "metadata": {
    "collapsed": false
   },
   "outputs": [],
   "source": [
    "with open('TFIDF_Vectorizer.pkl', 'rb') as fid:\n",
    "    Vect_loaded = cPickle.load(fid)"
   ]
  },
  {
   "cell_type": "code",
   "execution_count": 154,
   "metadata": {
    "collapsed": false
   },
   "outputs": [],
   "source": [
    "Review_Vectorized = Vect_loaded.transform(reviews)"
   ]
  },
  {
   "cell_type": "code",
   "execution_count": 155,
   "metadata": {
    "collapsed": false
   },
   "outputs": [
    {
     "name": "stdout",
     "output_type": "stream",
     "text": [
      "(10879, 586663)\n"
     ]
    }
   ],
   "source": [
    "print Review_Vectorized.shape"
   ]
  },
  {
   "cell_type": "code",
   "execution_count": 156,
   "metadata": {
    "collapsed": false
   },
   "outputs": [
    {
     "name": "stdout",
     "output_type": "stream",
     "text": [
      "Predicting the outcomes of the testing set\n",
      "done in 0.029000s\n",
      "[3 3 2 ..., 2 2 2]\n"
     ]
    }
   ],
   "source": [
    "\n",
    "print(\"Predicting the outcomes of the testing set\")\n",
    "t0 = time()\n",
    "pred = NB_loaded.predict(Review_Vectorized)\n",
    "print(\"done in %fs\" % (time() - t0))\n",
    "print pred"
   ]
  },
  {
   "cell_type": "code",
   "execution_count": 158,
   "metadata": {
    "collapsed": false
   },
   "outputs": [
    {
     "name": "stdout",
     "output_type": "stream",
     "text": [
      "Number of Reviewrs in Age group: 13-17 250\n",
      "Number of Reviewrs in Age group: 17-33 8605\n",
      "Number of Reviewrs in Age group: 33 -  2024\n"
     ]
    },
    {
     "data": {
      "text/html": [
       "<div>\n",
       "<table border=\"1\" class=\"dataframe\">\n",
       "  <thead>\n",
       "    <tr style=\"text-align: right;\">\n",
       "      <th></th>\n",
       "      <th>Age</th>\n",
       "      <th>Ages</th>\n",
       "    </tr>\n",
       "  </thead>\n",
       "  <tbody>\n",
       "    <tr>\n",
       "      <th>0</th>\n",
       "      <td>3</td>\n",
       "      <td>33-90</td>\n",
       "    </tr>\n",
       "    <tr>\n",
       "      <th>1</th>\n",
       "      <td>3</td>\n",
       "      <td>33-90</td>\n",
       "    </tr>\n",
       "    <tr>\n",
       "      <th>2</th>\n",
       "      <td>2</td>\n",
       "      <td>17-33</td>\n",
       "    </tr>\n",
       "    <tr>\n",
       "      <th>3</th>\n",
       "      <td>2</td>\n",
       "      <td>17-33</td>\n",
       "    </tr>\n",
       "    <tr>\n",
       "      <th>4</th>\n",
       "      <td>3</td>\n",
       "      <td>33-90</td>\n",
       "    </tr>\n",
       "  </tbody>\n",
       "</table>\n",
       "</div>"
      ],
      "text/plain": [
       "   Age   Ages\n",
       "0    3  33-90\n",
       "1    3  33-90\n",
       "2    2  17-33\n",
       "3    2  17-33\n",
       "4    3  33-90"
      ]
     },
     "execution_count": 158,
     "metadata": {},
     "output_type": "execute_result"
    }
   ],
   "source": [
    "print \"Number of Reviewrs in Age group: 13-17\",np.sum(np.array(pred)==1)\n",
    "print \"Number of Reviewrs in Age group: 17-33\",np.sum(np.array(pred)==2)\n",
    "print \"Number of Reviewrs in Age group: 33 - \",np.sum(np.array(pred)==3)\n",
    "pred = np.array(pred)\n",
    "AgeFrame = pd.DataFrame(data=pred,columns=['Age'])\n",
    "ages = []\n",
    "for a in AgeFrame['Age']:\n",
    "    if a == 1:\n",
    "        ages.append('13-17') \n",
    "    elif a==2:\n",
    "        ages.append('17-33')\n",
    "    else:\n",
    "        ages.append('33-90')\n",
    "AgeFrame['Ages']=ages   \n",
    "AgeFrame.head()"
   ]
  },
  {
   "cell_type": "code",
   "execution_count": 159,
   "metadata": {
    "collapsed": true
   },
   "outputs": [],
   "source": [
    "import seaborn as sns\n",
    "sns.set(style=\"white\")"
   ]
  },
  {
   "cell_type": "code",
   "execution_count": 160,
   "metadata": {
    "collapsed": false
   },
   "outputs": [
    {
     "data": {
      "image/png": "[encoded data removed]",
      "text/plain": [
       "<matplotlib.figure.Figure at 0x1f318048>"
      ]
     },
     "metadata": {},
     "output_type": "display_data"
    }
   ],
   "source": [
    "years = [\"13-17\",\"17-33\",\"33-90\"]\n",
    "g = sns.factorplot(x=\"Ages\", data=AgeFrame, kind=\"count\",\n",
    "                   palette=\"BuPu\", size=6, aspect=1.5, order=years)\n",
    "g.set_xticklabels(step=1)\n",
    "g.set_ylabels(\"Reviewrs\")\n",
    "g.savefig('Reviewrs_Age')"
   ]
  },
  {
   "cell_type": "code",
   "execution_count": null,
   "metadata": {
    "collapsed": false
   },
   "outputs": [],
   "source": []
  },
  {
   "cell_type": "code",
   "execution_count": 161,
   "metadata": {
    "collapsed": true
   },
   "outputs": [],
   "source": [
    "with open('MultinomialNB.pkl', 'rb') as fid:\n",
    "    NB_loaded = cPickle.load(fid)"
   ]
  },
  {
   "cell_type": "code",
   "execution_count": 162,
   "metadata": {
    "collapsed": true
   },
   "outputs": [],
   "source": [
    "with open('TFIDF_Age_Vectorizer.pkl', 'rb') as fid:\n",
    "    Vect_loaded = cPickle.load(fid)"
   ]
  },
  {
   "cell_type": "code",
   "execution_count": 163,
   "metadata": {
    "collapsed": true
   },
   "outputs": [],
   "source": [
    "Review_Vectorized = Vect_loaded.transform(reviews)"
   ]
  },
  {
   "cell_type": "code",
   "execution_count": 164,
   "metadata": {
    "collapsed": false
   },
   "outputs": [
    {
     "name": "stdout",
     "output_type": "stream",
     "text": [
      "Predicting the outcomes of the testing set\n",
      "done in 0.018000s\n",
      "['male' 'male' 'male' ..., 'female' 'female' 'male']\n"
     ]
    }
   ],
   "source": [
    "\n",
    "print(\"Predicting the outcomes of the testing set\")\n",
    "t0 = time()\n",
    "Gender = NB_loaded.predict(Review_Vectorized)\n",
    "print(\"done in %fs\" % (time() - t0))\n",
    "print Gender\n"
   ]
  },
  {
   "cell_type": "code",
   "execution_count": 165,
   "metadata": {
    "collapsed": true
   },
   "outputs": [],
   "source": [
    "GenderFrame = pd.DataFrame(data=Gender,columns=['Gender'])"
   ]
  },
  {
   "cell_type": "code",
   "execution_count": 166,
   "metadata": {
    "collapsed": false
   },
   "outputs": [
    {
     "data": {
      "text/html": [
       "<div>\n",
       "<table border=\"1\" class=\"dataframe\">\n",
       "  <thead>\n",
       "    <tr style=\"text-align: right;\">\n",
       "      <th></th>\n",
       "      <th>Gender</th>\n",
       "    </tr>\n",
       "  </thead>\n",
       "  <tbody>\n",
       "    <tr>\n",
       "      <th>0</th>\n",
       "      <td>male</td>\n",
       "    </tr>\n",
       "    <tr>\n",
       "      <th>1</th>\n",
       "      <td>male</td>\n",
       "    </tr>\n",
       "    <tr>\n",
       "      <th>2</th>\n",
       "      <td>male</td>\n",
       "    </tr>\n",
       "    <tr>\n",
       "      <th>3</th>\n",
       "      <td>female</td>\n",
       "    </tr>\n",
       "    <tr>\n",
       "      <th>4</th>\n",
       "      <td>male</td>\n",
       "    </tr>\n",
       "  </tbody>\n",
       "</table>\n",
       "</div>"
      ],
      "text/plain": [
       "   Gender\n",
       "0    male\n",
       "1    male\n",
       "2    male\n",
       "3  female\n",
       "4    male"
      ]
     },
     "execution_count": 166,
     "metadata": {},
     "output_type": "execute_result"
    }
   ],
   "source": [
    "GenderFrame.head()"
   ]
  },
  {
   "cell_type": "code",
   "execution_count": 167,
   "metadata": {
    "collapsed": false
   },
   "outputs": [
    {
     "data": {
      "image/png": "[encoded data removed]",
      "text/plain": [
       "<matplotlib.figure.Figure at 0x2d3fd2e8>"
      ]
     },
     "metadata": {},
     "output_type": "display_data"
    }
   ],
   "source": [
    "years = ['male','female']\n",
    "g = sns.factorplot(x=\"Gender\", data=GenderFrame, kind=\"count\",\n",
    "                   palette=\"BuPu\", size=6, aspect=1, order=years)\n",
    "g.set_xticklabels(step=1)\n",
    "g.set_ylabels(\"Reviewrs\")\n",
    "g.savefig('Reviewrs_Gender')"
   ]
  },
  {
   "cell_type": "code",
   "execution_count": 168,
   "metadata": {
    "collapsed": false
   },
   "outputs": [],
   "source": [
    "Combined_dataFrame = pd.DataFrame(data=AgeFrame.join(GenderFrame))\n",
    "     "
   ]
  },
  {
   "cell_type": "code",
   "execution_count": 169,
   "metadata": {
    "collapsed": false
   },
   "outputs": [
    {
     "data": {
      "text/html": [
       "<div>\n",
       "<table border=\"1\" class=\"dataframe\">\n",
       "  <thead>\n",
       "    <tr style=\"text-align: right;\">\n",
       "      <th></th>\n",
       "      <th>Age</th>\n",
       "      <th>Ages</th>\n",
       "      <th>Gender</th>\n",
       "    </tr>\n",
       "  </thead>\n",
       "  <tbody>\n",
       "    <tr>\n",
       "      <th>0</th>\n",
       "      <td>3</td>\n",
       "      <td>33-90</td>\n",
       "      <td>male</td>\n",
       "    </tr>\n",
       "    <tr>\n",
       "      <th>1</th>\n",
       "      <td>3</td>\n",
       "      <td>33-90</td>\n",
       "      <td>male</td>\n",
       "    </tr>\n",
       "    <tr>\n",
       "      <th>2</th>\n",
       "      <td>2</td>\n",
       "      <td>17-33</td>\n",
       "      <td>male</td>\n",
       "    </tr>\n",
       "    <tr>\n",
       "      <th>3</th>\n",
       "      <td>2</td>\n",
       "      <td>17-33</td>\n",
       "      <td>female</td>\n",
       "    </tr>\n",
       "    <tr>\n",
       "      <th>4</th>\n",
       "      <td>3</td>\n",
       "      <td>33-90</td>\n",
       "      <td>male</td>\n",
       "    </tr>\n",
       "  </tbody>\n",
       "</table>\n",
       "</div>"
      ],
      "text/plain": [
       "   Age   Ages  Gender\n",
       "0    3  33-90    male\n",
       "1    3  33-90    male\n",
       "2    2  17-33    male\n",
       "3    2  17-33  female\n",
       "4    3  33-90    male"
      ]
     },
     "execution_count": 169,
     "metadata": {},
     "output_type": "execute_result"
    }
   ],
   "source": [
    "Combined_dataFrame.head()"
   ]
  },
  {
   "cell_type": "code",
   "execution_count": 170,
   "metadata": {
    "collapsed": false,
    "scrolled": true
   },
   "outputs": [
    {
     "data": {
      "image/png": "[encoded data removed]",
      "text/plain": [
       "<matplotlib.figure.Figure at 0x24e017f0>"
      ]
     },
     "metadata": {},
     "output_type": "display_data"
    }
   ],
   "source": [
    "sns.violinplot(Combined_dataFrame['Age'], Combined_dataFrame['Gender'],palette=\"BuPu\", size=8, aspect=2.0) #Variable Plot\n",
    "sns.despine()"
   ]
  },
  {
   "cell_type": "code",
   "execution_count": null,
   "metadata": {
    "collapsed": true
   },
   "outputs": [],
   "source": []
  }
 ],
 "metadata": {
  "kernelspec": {
   "display_name": "Python 2",
   "language": "python",
   "name": "python2"
  },
  "language_info": {
   "codemirror_mode": {
    "name": "ipython",
    "version": 2
   },
   "file_extension": ".py",
   "mimetype": "text/x-python",
   "name": "python",
   "nbconvert_exporter": "python",
   "pygments_lexer": "ipython2",
   "version": "2.7.11"
  }
 },
 "nbformat": 4,
 "nbformat_minor": 0
}
