{
 "cells": [
  {
   "cell_type": "code",
   "execution_count": 1,
   "metadata": {
    "collapsed": true
   },
   "outputs": [],
   "source": [
    "from os import listdir\n",
    "from os.path import isfile, join\n",
    "from bs4 import BeautifulSoup\n",
    "import xml.etree.ElementTree as ET\n",
    "import codecs\n",
    "mypath =\"/Anaconda/blogs\"\n",
    "import re\n",
    "import numpy as np\n",
    "from sklearn.feature_extraction.text import TfidfVectorizer\n",
    "from sklearn.cross_validation import train_test_split\n",
    "from time import time\n",
    "import sys\n",
    "import scipy.sparse as sp\n",
    "import pylab as pl\n",
    "import cPickle\n",
    "import sqlite3\n",
    "import pandas as pd\n",
    "import matplotlib as plt\n",
    "%matplotlib inline"
   ]
  },
  {
   "cell_type": "code",
   "execution_count": 2,
   "metadata": {
    "collapsed": true
   },
   "outputs": [],
   "source": [
    "from sklearn.ensemble import RandomForestClassifier\n",
    "from sklearn.feature_extraction.text import TfidfVectorizer"
   ]
  },
  {
   "cell_type": "code",
   "execution_count": 3,
   "metadata": {
    "collapsed": false,
    "scrolled": true
   },
   "outputs": [
    {
     "name": "stdout",
     "output_type": "stream",
     "text": [
      "Booknew Database for Reviews and Products\n",
      "Booknew Data\n",
      "   id         pid                                               name  \\\n",
      "0   1  B00OAMFOF0  Rechargeable Reading Lamp for Bed & Music Stan...   \n",
      "1   2  1628600543  It Starts With Food: Discover the Whole30 and ...   \n",
      "2   3  1476746583                        All the Light We Cannot See   \n",
      "3   4  B0039W9S0E                                   The Book Of Love   \n",
      "4   5  0996275460  Adult Coloring Books: A Coloring Book for Adul...   \n",
      "\n",
      "                                                path   price  \n",
      "0  http://www.amazon.com/Rechargeable-Reading-Mus...  $16.95  \n",
      "1  http://www.amazon.com/Starts-Food-Discover-Who...  $16.17  \n",
      "2  http://www.amazon.com/All-Light-We-Cannot-See/...  $16.20  \n",
      "3  http://www.amazon.com/The-Book-Of-Love/dp/B003...   $9.99  \n",
      "4  http://www.amazon.com/Adult-Coloring-Books-Fea...  $12.89  \n",
      "Booknew Reviews\n",
      "   id             rid              rname         pid  \\\n",
      "0   1  R2LHYLHQSHW2UK     Jackie  Cooper  0996275460   \n",
      "1   2  R2HKTQ2M22BXNT  thebrassbutterfly  B00OAMFOF0   \n",
      "2   3  R3AJJCUXRFWEBZ        SK preacher  1628600543   \n",
      "3   4  R18SRHT1IPWDXH        Tonya Weber  0996275460   \n",
      "4   5  R20KSJJKOZU1VA         Jenna Frye  1476746583   \n",
      "\n",
      "                                              review  \n",
      "0  Filled with Captivating, Complex and Intricate...  \n",
      "1  My wife has been complaining about every small...  \n",
      "2  I am a runner so my eating has been centered a...  \n",
      "3                 Love it! Printed only on one side.  \n",
      "4  It has been a while since I have found a book ...  \n",
      "\n",
      " Joining Product with Reviews..\n",
      "Comp Database for Reviews and Products\n",
      "Comp Data\n",
      "   id         pid                                               name  \\\n",
      "0   1  B007RP7JU0  Dell OptiPlex 760 Desktop Intel Core 2 Duo 2.0...   \n",
      "1   2  B00JS96S0U  2016 Newest Dell Inspiron 15 15.6\" Premium Hig...   \n",
      "2   3  B01C5GU4KM  RCA Viking Pro 10.1\" 2-in-1 Tablet 32GB Quad C...   \n",
      "3   4  B0174AX43I  Apple A1181 Macbook 13.3 Laptop Intel C2D 2.4G...   \n",
      "4   5  B00159LRXY  RCA Viking Pro 10\" 2-in-1 Tablet 32GB Quad Cor...   \n",
      "\n",
      "                                                path    price  \n",
      "0  http://www.amazon.com/Dell-OptiPlex-Profession...  $319.98  \n",
      "1  http://www.amazon.com/Dell-15-Performance-Dual...  $119.99  \n",
      "2  http://www.amazon.com/Viking-Pro-Computer-Touc...  $124.79  \n",
      "3  http://www.amazon.com/Apple-Macbook-Laptop-OSX...  $449.99  \n",
      "4  http://www.amazon.com/Viking-Pro-Computer-Touc...  $149.88  \n",
      "Comp Reviews\n",
      "   id             rid        rname         pid  \\\n",
      "0   1  R3D7ES77RU9TET  Pat The Cat  B00JS96S0U   \n",
      "1   2  R11B6NMM2Y8OZC   John Vleck  B00UTV8OEE   \n",
      "2   3  R101TS9NXF6QT1        Karen  B00JS96S0U   \n",
      "3   4  R3H11HIP4SCL9V   GratefulEd  B00UTV8OEE   \n",
      "4   5   RDA4UJY4S5Z0D  Vovi Wetzel  B001BBKNI6   \n",
      "\n",
      "                                              review  \n",
      "0  This is the best \"used or refurbished\" PC that...  \n",
      "1  This is a good 2 in 1 tablet for just about an...  \n",
      "2  This was a great buy! Very economical & the co...  \n",
      "3  This is a good cross between a small laptop an...  \n",
      "4  I ordered this desk for my college student at ...  \n",
      "\n",
      " Joining Product with Reviews..\n",
      "Desktop Database for Reviews and Products\n",
      "Desktop Data\n",
      "   id         pid                                               name  \\\n",
      "0   1  B0027A5J9S  Fredrix Desktop Inkjet Canvas 8.5 in. x 11 in....   \n",
      "1   2  B019F9JH78                      Dell Optiplex 755 H R Desktop   \n",
      "2   3  B018K0NOMC  ABLEGRID® 5V 10A 50W 5-Port USB Charger Travel...   \n",
      "3   4  B015Z3PV4Q  Opolar F60 Desktop USB Fan, Mini Table Fan for...   \n",
      "4   5  B00JS96S0U  Dell OptiPlex 760 Desktop Intel Core 2 Duo 2.0...   \n",
      "\n",
      "                                                path    price  \n",
      "0  http://www.amazon.com/Fredrix-Desktop-Inkjet-C...   $19.02  \n",
      "1  http://www.amazon.com/Dell-DELL-755-Optiplex-D...   $20.98  \n",
      "2  http://www.amazon.com/ABLEGRID%C2%AE-Charger-D...   $16.99  \n",
      "3  http://www.amazon.com/F60-Desktop-Powered-Pers...  $119.00  \n",
      "4  http://www.amazon.com/Dell-OptiPlex-Profession...   $19.79  \n",
      "Desktop Reviews\n",
      "   id             rid          rname         pid  \\\n",
      "0   1   RRO7VX5LEJX4C    S. R. Bryan  B00FJF4T76   \n",
      "1   2  R2896J1B8YFIK1    Protosapien  B00FJF4T76   \n",
      "2   3  R3D4SJJ4PA4U9X     count_zero  B00FJF4T76   \n",
      "3   4  R1Q2Q7KU1T9DMA            MLP  B00FJF4T76   \n",
      "4   5   RMGB8VZMA5HP9  colloquialism  B00FJF4T76   \n",
      "\n",
      "                                              review  \n",
      "0  Granted I just bought this so time will tell i...  \n",
      "1  This is the second (and last) time I'm returni...  \n",
      "2  I love this box-- couple little things. Came w...  \n",
      "3  I just received a ThinkServer TS140 modified b...  \n",
      "4  I am a software engineer with some extra cash ...  \n",
      "\n",
      " Joining Product with Reviews..\n",
      "   id_x         pid                                               name  \\\n",
      "0     1  B00OAMFOF0  Rechargeable Reading Lamp for Bed & Music Stan...   \n",
      "1     1  B00OAMFOF0  Rechargeable Reading Lamp for Bed & Music Stan...   \n",
      "2     1  B00OAMFOF0  Rechargeable Reading Lamp for Bed & Music Stan...   \n",
      "3     1  B00OAMFOF0  Rechargeable Reading Lamp for Bed & Music Stan...   \n",
      "4     1  B00OAMFOF0  Rechargeable Reading Lamp for Bed & Music Stan...   \n",
      "\n",
      "                                                path   price  id_y  \\\n",
      "0  http://www.amazon.com/Rechargeable-Reading-Mus...  $16.95     2   \n",
      "1  http://www.amazon.com/Rechargeable-Reading-Mus...  $16.95     6   \n",
      "2  http://www.amazon.com/Rechargeable-Reading-Mus...  $16.95    14   \n",
      "3  http://www.amazon.com/Rechargeable-Reading-Mus...  $16.95    25   \n",
      "4  http://www.amazon.com/Rechargeable-Reading-Mus...  $16.95    38   \n",
      "\n",
      "              rid              rname  \\\n",
      "0  R2HKTQ2M22BXNT  thebrassbutterfly   \n",
      "1  R1CB7I6SVV0O92          OceanWave   \n",
      "2  R33MZJ4J6NDCD9              David   \n",
      "3  R31WANGJH4VPHD         Don Porter   \n",
      "4   RZ9T0HH2KZXWU       Mike Tarrani   \n",
      "\n",
      "                                              review  Type  \n",
      "0  My wife has been complaining about every small...  book  \n",
      "1  I have read my way through many book lights; t...  book  \n",
      "2   This is my video review- I've had reviews on ...  book  \n",
      "3  Worked for 2 days (always plugged in) and then...  book  \n",
      "4  I've gone through a number of music stand ligh...  book  \n",
      "Droping id_x and id_y cols ...\n"
     ]
    }
   ],
   "source": [
    "#combining Products separated in Database by type\n",
    "#Operations on data performed using Pandas \n",
    "#Sqlite was used as Base database during Scrapping.\n",
    "\n",
    "def getData(name,ptype):\n",
    "    print name+\" Database for Reviews and Products\"\n",
    "    # Read sqlite query results into a pandas DataFrame\n",
    "    con = sqlite3.connect(\"Scrape-Amazon\\\\amazon\\\\\"+name+\".db\")\n",
    "    Product_df = pd.read_sql_query(\"SELECT * from Amazon\", con)\n",
    "    Product_Reviews_df = pd.read_sql_query(\"SELECT * from Review\",con)\n",
    "    # verify that result of SQL query is stored in the dataframe\n",
    "    print name+\" Data\\n\",Product_df.head()\n",
    "    print name+\" Reviews\\n\",Product_Reviews_df.head()\n",
    "    \n",
    "    print \"\\n Joining Product with Reviews..\"\n",
    "    product = pd.merge(Product_df,Product_Reviews_df,on=\"pid\",how=\"inner\")\n",
    "    number = product.shape[0]\n",
    "    ptypeList =[ptype for i in range(0,number)]\n",
    "    product['Type'] = ptypeList\n",
    "    con.close()\n",
    "    return product\n",
    "\n",
    "listOfProducts = ['Booknew','Comp','Desktop']\n",
    "names = ['book','electronic','desktop']\n",
    "prod_df = []\n",
    "for p in range(0,len(listOfProducts)):\n",
    "    prod_df.append( getData(listOfProducts[p],names[p]))\n",
    "    \n",
    "prods = pd.concat(prod_df)\n",
    "print prods.head()\n",
    "print \"Droping id_x and id_y cols ...\"\n",
    "\n",
    "prods.drop(['id_x','id_y','path'],axis=1,inplace=True)"
   ]
  },
  {
   "cell_type": "code",
   "execution_count": null,
   "metadata": {
    "collapsed": false
   },
   "outputs": [],
   "source": [
    "\n",
    "\n"
   ]
  },
  {
   "cell_type": "code",
   "execution_count": 4,
   "metadata": {
    "collapsed": false
   },
   "outputs": [],
   "source": [
    "prods.columns = ['Product ID', 'Product Name','Price(Dollar)','Reviewer ID','Reviewer Username','Review','Product Type']\n"
   ]
  },
  {
   "cell_type": "code",
   "execution_count": 5,
   "metadata": {
    "collapsed": false
   },
   "outputs": [
    {
     "name": "stdout",
     "output_type": "stream",
     "text": [
      "Saving Filtered and Combined Data to Csv...\n"
     ]
    }
   ],
   "source": [
    "nframe = prods.copy()\n",
    "nframe[nframe['Price(Dollar)']=='Free']='$0'\n",
    "nframe['Price(Dollar)'] = nframe['Price(Dollar)'].apply(lambda v:float(v.replace('$','').replace(',','').split('-')[0]) )\n",
    "\n",
    "print \"Saving Filtered and Combined Data to Csv...\"\n",
    "nframe.to_csv('Filtered_Data.csv',sep=',',encoding='utf-8')"
   ]
  },
  {
   "cell_type": "markdown",
   "metadata": {},
   "source": [
    "# Data Analysis\n",
    "### 1. Age Prediction\n",
    "### 2. Gender Prediction\n",
    "### 3. Other Analysis"
   ]
  },
  {
   "cell_type": "code",
   "execution_count": 6,
   "metadata": {
    "collapsed": false
   },
   "outputs": [
    {
     "name": "stdout",
     "output_type": "stream",
     "text": [
      "Loading Naive Bayes Trained Model for Age Prediction(Sentiment Analysis)\n"
     ]
    }
   ],
   "source": [
    "print \"Loading Naive Bayes Trained Model for Age Prediction(Sentiment Analysis)\"\n",
    "with open('MultiNB.pkl', 'rb') as fid:\n",
    "    NB_loaded = cPickle.load(fid)"
   ]
  },
  {
   "cell_type": "code",
   "execution_count": 7,
   "metadata": {
    "collapsed": false
   },
   "outputs": [
    {
     "name": "stdout",
     "output_type": "stream",
     "text": [
      "MultinomialNB(alpha=0.01, class_prior=None, fit_prior=True)\n"
     ]
    }
   ],
   "source": [
    "print NB_loaded"
   ]
  },
  {
   "cell_type": "code",
   "execution_count": 8,
   "metadata": {
    "collapsed": true
   },
   "outputs": [],
   "source": [
    "reviews = nframe['Review'].tolist()"
   ]
  },
  {
   "cell_type": "code",
   "execution_count": 9,
   "metadata": {
    "collapsed": false
   },
   "outputs": [],
   "source": [
    "with open('TFIDF_Vectorizer.pkl', 'rb') as fid:\n",
    "    Vect_loaded = cPickle.load(fid)"
   ]
  },
  {
   "cell_type": "code",
   "execution_count": 10,
   "metadata": {
    "collapsed": false
   },
   "outputs": [],
   "source": [
    "Review_Vectorized = Vect_loaded.transform(reviews)"
   ]
  },
  {
   "cell_type": "code",
   "execution_count": 11,
   "metadata": {
    "collapsed": false
   },
   "outputs": [
    {
     "name": "stdout",
     "output_type": "stream",
     "text": [
      "(6320, 586663)\n"
     ]
    }
   ],
   "source": [
    "print Review_Vectorized.shape"
   ]
  },
  {
   "cell_type": "code",
   "execution_count": 12,
   "metadata": {
    "collapsed": false
   },
   "outputs": [
    {
     "name": "stdout",
     "output_type": "stream",
     "text": [
      "Predicting the outcomes of the testing set\n",
      "done in 0.015000s\n",
      "[2 2 2 ..., 2 2 2]\n"
     ]
    }
   ],
   "source": [
    "\n",
    "print(\"Predicting the outcomes of the testing set\")\n",
    "t0 = time()\n",
    "pred = NB_loaded.predict(Review_Vectorized)\n",
    "print(\"done in %fs\" % (time() - t0))\n",
    "print pred"
   ]
  },
  {
   "cell_type": "code",
   "execution_count": 13,
   "metadata": {
    "collapsed": false
   },
   "outputs": [
    {
     "name": "stdout",
     "output_type": "stream",
     "text": [
      "Number of Reviewrs in Age group: 13-17 139\n",
      "Number of Reviewrs in Age group: 17-33 5742\n",
      "Number of Reviewrs in Age group: 33 -  439\n"
     ]
    },
    {
     "data": {
      "text/html": [
       "<div>\n",
       "<table border=\"1\" class=\"dataframe\">\n",
       "  <thead>\n",
       "    <tr style=\"text-align: right;\">\n",
       "      <th></th>\n",
       "      <th>Age</th>\n",
       "      <th>Ages</th>\n",
       "    </tr>\n",
       "  </thead>\n",
       "  <tbody>\n",
       "    <tr>\n",
       "      <th>0</th>\n",
       "      <td>2</td>\n",
       "      <td>17-33</td>\n",
       "    </tr>\n",
       "    <tr>\n",
       "      <th>1</th>\n",
       "      <td>2</td>\n",
       "      <td>17-33</td>\n",
       "    </tr>\n",
       "    <tr>\n",
       "      <th>2</th>\n",
       "      <td>2</td>\n",
       "      <td>17-33</td>\n",
       "    </tr>\n",
       "    <tr>\n",
       "      <th>3</th>\n",
       "      <td>2</td>\n",
       "      <td>17-33</td>\n",
       "    </tr>\n",
       "    <tr>\n",
       "      <th>4</th>\n",
       "      <td>2</td>\n",
       "      <td>17-33</td>\n",
       "    </tr>\n",
       "  </tbody>\n",
       "</table>\n",
       "</div>"
      ],
      "text/plain": [
       "   Age   Ages\n",
       "0    2  17-33\n",
       "1    2  17-33\n",
       "2    2  17-33\n",
       "3    2  17-33\n",
       "4    2  17-33"
      ]
     },
     "execution_count": 13,
     "metadata": {},
     "output_type": "execute_result"
    }
   ],
   "source": [
    "print \"Number of Reviewrs in Age group: 13-17\",np.sum(np.array(pred)==1)\n",
    "print \"Number of Reviewrs in Age group: 17-33\",np.sum(np.array(pred)==2)\n",
    "print \"Number of Reviewrs in Age group: 33 - \",np.sum(np.array(pred)==3)\n",
    "pred = np.array(pred)\n",
    "AgeFrame = pd.DataFrame(data=pred,columns=['Age'])\n",
    "ages = []\n",
    "for a in AgeFrame['Age']:\n",
    "    if a == 1:\n",
    "        ages.append('13-17') \n",
    "    elif a==2:\n",
    "        ages.append('17-33')\n",
    "    else:\n",
    "        ages.append('33-90')\n",
    "AgeFrame['Ages']=ages   \n",
    "AgeFrame.head()"
   ]
  },
  {
   "cell_type": "code",
   "execution_count": 14,
   "metadata": {
    "collapsed": true
   },
   "outputs": [],
   "source": [
    "import seaborn as sns\n",
    "sns.set(style=\"white\")"
   ]
  },
  {
   "cell_type": "code",
   "execution_count": 15,
   "metadata": {
    "collapsed": false
   },
   "outputs": [
    {
     "data": {
      "image/png": "[encoded data removed]",
      "text/plain": [
       "<matplotlib.figure.Figure at 0x2002ceb8>"
      ]
     },
     "metadata": {},
     "output_type": "display_data"
    }
   ],
   "source": [
    "years = [\"13-17\",\"17-33\",\"33-90\"]\n",
    "g = sns.factorplot(x=\"Ages\", data=AgeFrame, kind=\"count\",\n",
    "                   palette=\"BuPu\", size=6, aspect=1.5, order=years)\n",
    "g.set_xticklabels(step=1)\n",
    "g.set_ylabels(\"Reviewrs\")\n",
    "g.savefig('Reviewrs_Age')"
   ]
  },
  {
   "cell_type": "code",
   "execution_count": null,
   "metadata": {
    "collapsed": false
   },
   "outputs": [],
   "source": []
  },
  {
   "cell_type": "code",
   "execution_count": 16,
   "metadata": {
    "collapsed": false
   },
   "outputs": [
    {
     "name": "stdout",
     "output_type": "stream",
     "text": [
      "Loading Naive Bayes trained model for Gender Classification\n"
     ]
    }
   ],
   "source": [
    "print \"Loading Naive Bayes trained model for Gender Classification\"\n",
    "with open('MultinomialNB.pkl', 'rb') as fid:\n",
    "    NB_loaded = cPickle.load(fid)"
   ]
  },
  {
   "cell_type": "code",
   "execution_count": 17,
   "metadata": {
    "collapsed": true
   },
   "outputs": [],
   "source": [
    "with open('TFIDF_Age_Vectorizer.pkl', 'rb') as fid:\n",
    "    Vect_loaded = cPickle.load(fid)"
   ]
  },
  {
   "cell_type": "code",
   "execution_count": 18,
   "metadata": {
    "collapsed": true
   },
   "outputs": [],
   "source": [
    "Review_Vectorized = Vect_loaded.transform(reviews)"
   ]
  },
  {
   "cell_type": "code",
   "execution_count": 19,
   "metadata": {
    "collapsed": false
   },
   "outputs": [
    {
     "name": "stdout",
     "output_type": "stream",
     "text": [
      "Predicting the outcomes of the testing set\n",
      "done in 0.012000s\n",
      "['female' 'male' 'female' ..., 'male' 'male' 'male']\n"
     ]
    }
   ],
   "source": [
    "\n",
    "print(\"Predicting the outcomes of the testing set\")\n",
    "t0 = time()\n",
    "Gender = NB_loaded.predict(Review_Vectorized)\n",
    "print(\"done in %fs\" % (time() - t0))\n",
    "print Gender\n"
   ]
  },
  {
   "cell_type": "code",
   "execution_count": 20,
   "metadata": {
    "collapsed": true
   },
   "outputs": [],
   "source": [
    "GenderFrame = pd.DataFrame(data=Gender,columns=['Gender'])"
   ]
  },
  {
   "cell_type": "code",
   "execution_count": 21,
   "metadata": {
    "collapsed": false
   },
   "outputs": [
    {
     "data": {
      "image/png": "[encoded data removed]",
      "text/plain": [
       "<matplotlib.figure.Figure at 0x21e72d30>"
      ]
     },
     "metadata": {},
     "output_type": "display_data"
    }
   ],
   "source": [
    "years = ['male','female']\n",
    "g = sns.factorplot(x=\"Gender\", data=GenderFrame, kind=\"count\",\n",
    "                   palette=\"BuPu\", size=6, aspect=1, order=years)\n",
    "g.set_xticklabels(step=1)\n",
    "g.set_ylabels(\"Reviewrs\")\n",
    "g.savefig('Reviewrs_Gender')"
   ]
  },
  {
   "cell_type": "code",
   "execution_count": 22,
   "metadata": {
    "collapsed": false
   },
   "outputs": [],
   "source": [
    "Combined_dataFrame = pd.DataFrame(data=AgeFrame.join(GenderFrame))\n",
    "     "
   ]
  },
  {
   "cell_type": "code",
   "execution_count": 23,
   "metadata": {
    "collapsed": false,
    "scrolled": true
   },
   "outputs": [
    {
     "data": {
      "image/png": "[encoded data removed]",
      "text/plain": [
       "<matplotlib.figure.Figure at 0x29db9048>"
      ]
     },
     "metadata": {},
     "output_type": "display_data"
    }
   ],
   "source": [
    "sns.violinplot(Combined_dataFrame['Age'], Combined_dataFrame['Gender'],palette=\"BuPu\", size=8, aspect=2.0) #Variable Plot\n",
    "sns.despine()\n"
   ]
  },
  {
   "cell_type": "code",
   "execution_count": 24,
   "metadata": {
    "collapsed": false
   },
   "outputs": [],
   "source": [
    "nframe['Gender'] = GenderFrame['Gender']\n",
    "nframe['Age Group'] = AgeFrame['Ages']\n"
   ]
  },
  {
   "cell_type": "code",
   "execution_count": 25,
   "metadata": {
    "collapsed": false
   },
   "outputs": [
    {
     "data": {
      "image/png": "[encoded data removed]",
      "text/plain": [
       "<matplotlib.figure.Figure at 0x21e72ef0>"
      ]
     },
     "metadata": {},
     "output_type": "display_data"
    }
   ],
   "source": [
    "plot = nframe['Product Type'].where(nframe['Product Type']!='$0').value_counts().plot(kind = 'bar',color = '#984e91',figsize=(12,8))"
   ]
  },
  {
   "cell_type": "code",
   "execution_count": 29,
   "metadata": {
    "collapsed": false
   },
   "outputs": [],
   "source": [
    "nframe.to_csv(\"Data.csv\",encoding=\"utf-8\")"
   ]
  }
 ],
 "metadata": {
  "kernelspec": {
   "display_name": "Python 2",
   "language": "python",
   "name": "python2"
  },
  "language_info": {
   "codemirror_mode": {
    "name": "ipython",
    "version": 2
   },
   "file_extension": ".py",
   "mimetype": "text/x-python",
   "name": "python",
   "nbconvert_exporter": "python",
   "pygments_lexer": "ipython2",
   "version": "2.7.11"
  }
 },
 "nbformat": 4,
 "nbformat_minor": 0
}
