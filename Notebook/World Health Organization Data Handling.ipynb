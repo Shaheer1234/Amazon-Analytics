{
 "cells": [
  {
   "cell_type": "code",
   "execution_count": 81,
   "metadata": {
    "collapsed": true
   },
   "outputs": [],
   "source": [
    "import pandas as pd\n",
    "import numpy as np\n",
    "import matplotlib as plt\n",
    "%matplotlib inline"
   ]
  },
  {
   "cell_type": "code",
   "execution_count": 82,
   "metadata": {
    "collapsed": false
   },
   "outputs": [],
   "source": [
    "WHO_df = pd.read_csv(\"xmart.csv\")"
   ]
  },
  {
   "cell_type": "code",
   "execution_count": 83,
   "metadata": {
    "collapsed": false,
    "scrolled": true
   },
   "outputs": [
    {
     "name": "stdout",
     "output_type": "stream",
     "text": [
      "                                Indicator; Age Group  2013; Female  \\\n",
      "0  nMx - age-specific death rate between ages x a...      0.005325   \n",
      "1  nMx - age-specific death rate between ages x a...      0.000226   \n",
      "2  nMx - age-specific death rate between ages x a...      0.000107   \n",
      "3  nMx - age-specific death rate between ages x a...      0.000123   \n",
      "4  nMx - age-specific death rate between ages x a...      0.000313   \n",
      "\n",
      "   2013; Male  2012; Female  2012; Male  2000; Female  2000; Male  \\\n",
      "0    0.006437      0.005527    0.006639      0.006437    0.007754   \n",
      "1    0.000302      0.000226    0.000301      0.000302    0.000403   \n",
      "2    0.000128      0.000109    0.000131      0.000140    0.000176   \n",
      "3    0.000175      0.000125    0.000177      0.000161    0.000243   \n",
      "4    0.000767      0.000318    0.000782      0.000393    0.000933   \n",
      "\n",
      "   1990; Female  1990; Male  \n",
      "0      0.008363    0.010498  \n",
      "1      0.000429    0.000531  \n",
      "2      0.000185    0.000256  \n",
      "3      0.000202    0.000316  \n",
      "4      0.000464    0.001273  \n"
     ]
    }
   ],
   "source": [
    "print WHO_df.head()"
   ]
  },
  {
   "cell_type": "code",
   "execution_count": 84,
   "metadata": {
    "collapsed": false
   },
   "outputs": [],
   "source": [
    "Age=[]\n",
    "measure = []\n",
    "for instance in WHO_df['Indicator; Age Group']:\n",
    "    Age.append(instance.split(';')[-1])\n",
    "    measure.append(instance.split('-')[0])\n",
    "WHO_df['Age Group'] = Age\n",
    "WHO_df['Indicator'] = measure"
   ]
  },
  {
   "cell_type": "code",
   "execution_count": 85,
   "metadata": {
    "collapsed": false,
    "scrolled": false
   },
   "outputs": [],
   "source": [
    "WHO_df.drop(['Indicator; Age Group'],axis=1,inplace=True)"
   ]
  },
  {
   "cell_type": "code",
   "execution_count": 86,
   "metadata": {
    "collapsed": false
   },
   "outputs": [
    {
     "data": {
      "text/html": [
       "<div>\n",
       "<table border=\"1\" class=\"dataframe\">\n",
       "  <thead>\n",
       "    <tr style=\"text-align: right;\">\n",
       "      <th></th>\n",
       "      <th>2013; Female</th>\n",
       "      <th>2013; Male</th>\n",
       "      <th>2012; Female</th>\n",
       "      <th>2012; Male</th>\n",
       "      <th>2000; Female</th>\n",
       "      <th>2000; Male</th>\n",
       "      <th>1990; Female</th>\n",
       "      <th>1990; Male</th>\n",
       "      <th>Age Group</th>\n",
       "      <th>Indicator</th>\n",
       "    </tr>\n",
       "  </thead>\n",
       "  <tbody>\n",
       "    <tr>\n",
       "      <th>0</th>\n",
       "      <td>0.005325</td>\n",
       "      <td>0.006437</td>\n",
       "      <td>0.005527</td>\n",
       "      <td>0.006639</td>\n",
       "      <td>0.006437</td>\n",
       "      <td>0.007754</td>\n",
       "      <td>0.008363</td>\n",
       "      <td>0.010498</td>\n",
       "      <td>1 year</td>\n",
       "      <td>nMx</td>\n",
       "    </tr>\n",
       "    <tr>\n",
       "      <th>1</th>\n",
       "      <td>0.000226</td>\n",
       "      <td>0.000302</td>\n",
       "      <td>0.000226</td>\n",
       "      <td>0.000301</td>\n",
       "      <td>0.000302</td>\n",
       "      <td>0.000403</td>\n",
       "      <td>0.000429</td>\n",
       "      <td>0.000531</td>\n",
       "      <td>1-4 years</td>\n",
       "      <td>nMx</td>\n",
       "    </tr>\n",
       "    <tr>\n",
       "      <th>2</th>\n",
       "      <td>0.000107</td>\n",
       "      <td>0.000128</td>\n",
       "      <td>0.000109</td>\n",
       "      <td>0.000131</td>\n",
       "      <td>0.000140</td>\n",
       "      <td>0.000176</td>\n",
       "      <td>0.000185</td>\n",
       "      <td>0.000256</td>\n",
       "      <td>5-9 years</td>\n",
       "      <td>nMx</td>\n",
       "    </tr>\n",
       "    <tr>\n",
       "      <th>3</th>\n",
       "      <td>0.000123</td>\n",
       "      <td>0.000175</td>\n",
       "      <td>0.000125</td>\n",
       "      <td>0.000177</td>\n",
       "      <td>0.000161</td>\n",
       "      <td>0.000243</td>\n",
       "      <td>0.000202</td>\n",
       "      <td>0.000316</td>\n",
       "      <td>10-14 years</td>\n",
       "      <td>nMx</td>\n",
       "    </tr>\n",
       "    <tr>\n",
       "      <th>4</th>\n",
       "      <td>0.000313</td>\n",
       "      <td>0.000767</td>\n",
       "      <td>0.000318</td>\n",
       "      <td>0.000782</td>\n",
       "      <td>0.000393</td>\n",
       "      <td>0.000933</td>\n",
       "      <td>0.000464</td>\n",
       "      <td>0.001273</td>\n",
       "      <td>15-19  years</td>\n",
       "      <td>nMx</td>\n",
       "    </tr>\n",
       "  </tbody>\n",
       "</table>\n",
       "</div>"
      ],
      "text/plain": [
       "   2013; Female  2013; Male  2012; Female  2012; Male  2000; Female  \\\n",
       "0      0.005325    0.006437      0.005527    0.006639      0.006437   \n",
       "1      0.000226    0.000302      0.000226    0.000301      0.000302   \n",
       "2      0.000107    0.000128      0.000109    0.000131      0.000140   \n",
       "3      0.000123    0.000175      0.000125    0.000177      0.000161   \n",
       "4      0.000313    0.000767      0.000318    0.000782      0.000393   \n",
       "\n",
       "   2000; Male  1990; Female  1990; Male      Age Group Indicator  \n",
       "0    0.007754      0.008363    0.010498         1 year      nMx   \n",
       "1    0.000403      0.000429    0.000531      1-4 years      nMx   \n",
       "2    0.000176      0.000185    0.000256      5-9 years      nMx   \n",
       "3    0.000243      0.000202    0.000316    10-14 years      nMx   \n",
       "4    0.000933      0.000464    0.001273   15-19  years      nMx   "
      ]
     },
     "execution_count": 86,
     "metadata": {},
     "output_type": "execute_result"
    }
   ],
   "source": [
    "WHO_df.head()"
   ]
  },
  {
   "cell_type": "code",
   "execution_count": 87,
   "metadata": {
    "collapsed": false
   },
   "outputs": [],
   "source": [
    "WHO_df.to_csv('WHO_data.csv')"
   ]
  },
  {
   "cell_type": "code",
   "execution_count": 88,
   "metadata": {
    "collapsed": false
   },
   "outputs": [
    {
     "name": "stdout",
     "output_type": "stream",
     "text": [
      "Getting Number of people lived above a age threshold\n"
     ]
    }
   ],
   "source": [
    "print \"Getting Number of people lived above a age threshold\"\n",
    "req_df=WHO_df.where(WHO_df['Indicator']=='Tx ').dropna()"
   ]
  },
  {
   "cell_type": "code",
   "execution_count": 89,
   "metadata": {
    "collapsed": false
   },
   "outputs": [],
   "source": [
    "req_df.to_csv('Life Expectation.csv')\n",
    "\n"
   ]
  },
  {
   "cell_type": "code",
   "execution_count": 90,
   "metadata": {
    "collapsed": false
   },
   "outputs": [
    {
     "data": {
      "text/plain": [
       "Index([u'2013; Female', u'2013; Male', u'2012; Female', u'2012; Male',\n",
       "       u'2000; Female', u'2000; Male', u'1990; Female', u'1990; Male',\n",
       "       u'Age Group', u'Indicator'],\n",
       "      dtype='object')"
      ]
     },
     "execution_count": 90,
     "metadata": {},
     "output_type": "execute_result"
    }
   ],
   "source": [
    "req_df.keys()"
   ]
  },
  {
   "cell_type": "code",
   "execution_count": 91,
   "metadata": {
    "collapsed": false
   },
   "outputs": [
    {
     "name": "stdout",
     "output_type": "stream",
     "text": [
      "Getting Number of people lived above a age threshold\n"
     ]
    }
   ],
   "source": [
    "print \"Getting Number of people lived above a age threshold\"\n",
    "req_df=WHO_df.where(WHO_df['Indicator']=='ex ').dropna()"
   ]
  },
  {
   "cell_type": "code",
   "execution_count": 92,
   "metadata": {
    "collapsed": true
   },
   "outputs": [],
   "source": [
    "req_df.to_csv('Exp Life.csv')\n"
   ]
  },
  {
   "cell_type": "code",
   "execution_count": 93,
   "metadata": {
    "collapsed": false
   },
   "outputs": [
    {
     "name": "stdout",
     "output_type": "stream",
     "text": [
      "Getting Death Rate above a age threshold\n"
     ]
    }
   ],
   "source": [
    "print \"Getting Death Rate above a age threshold\"\n",
    "req_df=WHO_df.where(WHO_df['Indicator']=='nMx ').dropna()\n",
    "req_df.to_csv('Death Rate.csv')"
   ]
  },
  {
   "cell_type": "code",
   "execution_count": null,
   "metadata": {
    "collapsed": true
   },
   "outputs": [],
   "source": []
  }
 ],
 "metadata": {
  "kernelspec": {
   "display_name": "Python 2",
   "language": "python",
   "name": "python2"
  },
  "language_info": {
   "codemirror_mode": {
    "name": "ipython",
    "version": 2
   },
   "file_extension": ".py",
   "mimetype": "text/x-python",
   "name": "python",
   "nbconvert_exporter": "python",
   "pygments_lexer": "ipython2",
   "version": "2.7.11"
  }
 },
 "nbformat": 4,
 "nbformat_minor": 0
}
